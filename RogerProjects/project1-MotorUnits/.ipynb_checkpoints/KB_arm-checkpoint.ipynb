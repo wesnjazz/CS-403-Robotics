{
 "cells": [
  {
   "cell_type": "code",
   "execution_count": 1,
   "metadata": {},
   "outputs": [],
   "source": [
    "import numpy as np\n",
    "import matplotlib.pyplot as plt\n",
    "import math"
   ]
  },
  {
   "cell_type": "code",
   "execution_count": 2,
   "metadata": {},
   "outputs": [],
   "source": [
    "# force numpy array to print with decimal places\n",
    "np.set_printoptions(formatter={'float': lambda x: \"{0:0.17f}\".format(x)})"
   ]
  },
  {
   "cell_type": "code",
   "execution_count": 3,
   "metadata": {},
   "outputs": [
    {
     "data": {
      "text/plain": [
       "array([[0.00000000000000000, 0.00000000000000000, 0.00000000000000000,\n",
       "        0.00000000000000000, 0.00000000000000000, 0.00000000000000000,\n",
       "        0.00000000000000000, 0.00000000000000000, 0.00000000000000000,\n",
       "        0.00000000000000000],\n",
       "       [0.00000000000000000, 0.00000000000000000, 0.00000000000000000,\n",
       "        0.00000000000000000, 0.00000000000000000, 0.00000000000000000,\n",
       "        0.00000000000000000, 0.00000000000000000, 0.00000000000000000,\n",
       "        0.00000000000000000],\n",
       "       [0.00000000000000000, 0.00000000000000000, 0.00000000000000000,\n",
       "        0.00000000000000000, 0.00000000000000000, 0.00000000000000000,\n",
       "        0.00000000000000000, 0.00000000000000000, 0.00000000000000000,\n",
       "        0.00000000000000000]])"
      ]
     },
     "execution_count": 3,
     "metadata": {},
     "output_type": "execute_result"
    }
   ],
   "source": [
    "# dimension of empty numpy array\n",
    "m = 3\n",
    "n = 10\n",
    "Table_empty = np.zeros([m, n])\n",
    "Table_empty"
   ]
  },
  {
   "cell_type": "code",
   "execution_count": 4,
   "metadata": {},
   "outputs": [
    {
     "name": "stdout",
     "output_type": "stream",
     "text": [
      "eye_mass:0.05000000 \teye_link:0.04000000 \teye_intertia:0.00008000\n"
     ]
    }
   ],
   "source": [
    "# Roger's eye constant\n",
    "eye_mass = 0.05\n",
    "eye_link = 0.04\n",
    "eye_inertia = eye_mass * eye_link * eye_link\n",
    "print('eye_mass:{0:.8f}'.format(eye_mass),\n",
    "      '\\teye_link:{0:.8f}'.format(eye_link),\n",
    "      '\\teye_intertia:{0:.8f}'.format(eye_inertia))"
   ]
  },
  {
   "cell_type": "code",
   "execution_count": 5,
   "metadata": {},
   "outputs": [
    {
     "name": "stdout",
     "output_type": "stream",
     "text": [
      "arm1_inertia:0.05000000 \tarm2_inertia:0.05000000\n"
     ]
    }
   ],
   "source": [
    "# Roger's arm constant\n",
    "arm1_mass = 0.2 #/* [kg] - mass of arm link 1 (upper arm) */\n",
    "arm2_mass = 0.2 #/* [kg] - mass of arm link 2 (forearm)   */\n",
    "arm_offset = 0.18 #/* [m] - 1/2 distance between arms */\n",
    "length_arm1 = 0.5 #/* [m] - the length of link 1 */\n",
    "length_arm2 = 0.5 #/* [m] - the length of link 2 */\n",
    "arm1_inertia = arm1_mass * length_arm1 * length_arm1 #/* [kg m^2] - link 1 moment of inertia */\n",
    "arm2_inertia = arm2_mass * length_arm2 * length_arm2 #/* [kg m^2] - link 2 moment of inertia */\n",
    "\n",
    "print('arm1_inertia:{0:.8f}'.format(arm1_inertia),\n",
    "     '\\tarm2_inertia:{0:.8f}'.format(arm2_inertia))"
   ]
  },
  {
   "cell_type": "code",
   "execution_count": 6,
   "metadata": {},
   "outputs": [],
   "source": [
    "def get_natural_frequency(K, I=arm1_inertia):\n",
    "    return math.sqrt(K/I)"
   ]
  },
  {
   "cell_type": "code",
   "execution_count": 13,
   "metadata": {},
   "outputs": [],
   "source": [
    "K = 80.0"
   ]
  },
  {
   "cell_type": "code",
   "execution_count": 14,
   "metadata": {},
   "outputs": [
    {
     "data": {
      "text/plain": [
       "40.0"
      ]
     },
     "execution_count": 14,
     "metadata": {},
     "output_type": "execute_result"
    }
   ],
   "source": [
    "get_natural_frequency(K)"
   ]
  },
  {
   "cell_type": "code",
   "execution_count": 15,
   "metadata": {},
   "outputs": [],
   "source": [
    "def get_damping_constant(W, I=arm1_inertia, Z=1.0):\n",
    "    return 2 * Z * W * I"
   ]
  },
  {
   "cell_type": "code",
   "execution_count": 16,
   "metadata": {},
   "outputs": [
    {
     "data": {
      "text/plain": [
       "4.0"
      ]
     },
     "execution_count": 16,
     "metadata": {},
     "output_type": "execute_result"
    }
   ],
   "source": [
    "get_damping_constant(get_natural_frequency(K))"
   ]
  },
  {
   "cell_type": "code",
   "execution_count": 17,
   "metadata": {},
   "outputs": [],
   "source": [
    "def get_Table(Table, K, inertia=arm1_inertia, step=0.0001):\n",
    "    newK = K\n",
    "    for i in range(0, n):\n",
    "        Table[0][i] = newK\n",
    "        Table[1][i] = get_natural_frequency(Table[0][i], inertia)\n",
    "        Table[2][i] = get_damping_constant(Table[1][i], inertia, 1.0)\n",
    "        newK += step\n",
    "    return Table"
   ]
  },
  {
   "cell_type": "code",
   "execution_count": 21,
   "metadata": {},
   "outputs": [
    {
     "data": {
      "text/plain": [
       "array([[80.00000000000000000, 80.50000000000000000, 81.00000000000000000,\n",
       "        81.50000000000000000, 82.00000000000000000, 82.50000000000000000,\n",
       "        83.00000000000000000, 83.50000000000000000, 84.00000000000000000,\n",
       "        84.50000000000000000],\n",
       "       [40.00000000000000000, 40.12480529547775632, 40.24922359499621649,\n",
       "        40.37325847637269760, 40.49691346263317371, 40.62019202317980415,\n",
       "        40.74309757492672190, 40.86563348340509805, 40.98780306383839189,\n",
       "        41.10960958218893069],\n",
       "       [4.00000000000000000, 4.01248052954777545, 4.02492235949962218,\n",
       "        4.03732584763726976, 4.04969134626331773, 4.06201920231798042,\n",
       "        4.07430975749267255, 4.08656334834051016, 4.09878030638383972,\n",
       "        4.11096095821889307]])"
      ]
     },
     "execution_count": 21,
     "metadata": {},
     "output_type": "execute_result"
    }
   ],
   "source": [
    "K = 80\n",
    "step = 0.5\n",
    "T_arm1_f80_0 = get_Table(Table_empty, K, arm1_inertia, step)\n",
    "T_arm1_f80_0"
   ]
  },
  {
   "cell_type": "code",
   "execution_count": 22,
   "metadata": {},
   "outputs": [
    {
     "data": {
      "text/plain": [
       "array([[1.00000000000000000, 2.00000000000000000, 3.00000000000000000,\n",
       "        4.00000000000000000, 5.00000000000000000, 6.00000000000000000,\n",
       "        7.00000000000000000, 8.00000000000000000, 9.00000000000000000,\n",
       "        10.00000000000000000],\n",
       "       [111.80339887498948315, 158.11388300841895216,\n",
       "        193.64916731037084219, 223.60679774997896629,\n",
       "        249.99999999999997158, 273.86127875258307540,\n",
       "        295.80398915498079759, 316.22776601683790432,\n",
       "        335.41019662496842102, 353.55339059327371842],\n",
       "       [0.01788854381999832, 0.02529822128134704, 0.03098386676965934,\n",
       "        0.03577708763999664, 0.04000000000000000, 0.04381780460041330,\n",
       "        0.04732863826479693, 0.05059644256269407, 0.05366563145999495,\n",
       "        0.05656854249492380]])"
      ]
     },
     "execution_count": 22,
     "metadata": {},
     "output_type": "execute_result"
    }
   ],
   "source": [
    "K = 1\n",
    "step = 1\n",
    "T_arm1_f1_0 = get_Table(Table_empty, K, eye_inertia, step)\n",
    "T_arm1_f1_0"
   ]
  },
  {
   "cell_type": "code",
   "execution_count": 23,
   "metadata": {},
   "outputs": [
    {
     "data": {
      "text/plain": [
       "array([[11.00000000000000000, 12.00000000000000000, 13.00000000000000000,\n",
       "        14.00000000000000000, 15.00000000000000000, 16.00000000000000000,\n",
       "        17.00000000000000000, 18.00000000000000000, 19.00000000000000000,\n",
       "        20.00000000000000000],\n",
       "       [370.80992435478316338, 387.29833462074168438,\n",
       "        403.11288741492745658, 418.33001326703777067,\n",
       "        433.01270189221929741, 447.21359549995793259,\n",
       "        460.97722286464431818, 474.34164902525685648,\n",
       "        487.33971724044818075, 499.99999999999994316],\n",
       "       [0.05932958789676531, 0.06196773353931868, 0.06449806198638840,\n",
       "        0.06693280212272605, 0.06928203230275509, 0.07155417527999328,\n",
       "        0.07375635565834310, 0.07589466384404110, 0.07797435475847171,\n",
       "        0.08000000000000000]])"
      ]
     },
     "execution_count": 23,
     "metadata": {},
     "output_type": "execute_result"
    }
   ],
   "source": [
    "K = 11\n",
    "step = 1\n",
    "T_arm1_f11_0 = get_Table(Table_empty, K, eye_inertia, step)\n",
    "T_arm1_f11_0"
   ]
  },
  {
   "cell_type": "code",
   "execution_count": 24,
   "metadata": {},
   "outputs": [
    {
     "data": {
      "text/plain": [
       "array([[21.00000000000000000, 22.00000000000000000, 23.00000000000000000,\n",
       "        24.00000000000000000, 25.00000000000000000, 26.00000000000000000,\n",
       "        27.00000000000000000, 28.00000000000000000, 29.00000000000000000,\n",
       "        30.00000000000000000],\n",
       "       [512.34753829797989511, 524.40442408507578875,\n",
       "        536.19026473818041723, 547.72255750516615080,\n",
       "        559.01699437494744416, 570.08771254956900520,\n",
       "        580.94750193111258341, 591.60797830996159519,\n",
       "        602.07972893961471073, 612.37243569579447922],\n",
       "       [0.08197560612767679, 0.08390470785361213, 0.08579044235810887,\n",
       "        0.08763560920082659, 0.08944271909999160, 0.09121403400793104,\n",
       "        0.09295160030897802, 0.09465727652959387, 0.09633275663033836,\n",
       "        0.09797958971132713]])"
      ]
     },
     "execution_count": 24,
     "metadata": {},
     "output_type": "execute_result"
    }
   ],
   "source": [
    "K = 21\n",
    "step = 1\n",
    "T_arm1_f21_0 = get_Table(Table_empty, K, eye_inertia, step)\n",
    "T_arm1_f21_0"
   ]
  },
  {
   "cell_type": "code",
   "execution_count": null,
   "metadata": {},
   "outputs": [],
   "source": []
  }
 ],
 "metadata": {
  "kernelspec": {
   "display_name": "Python 3",
   "language": "python",
   "name": "python3"
  },
  "language_info": {
   "codemirror_mode": {
    "name": "ipython",
    "version": 3
   },
   "file_extension": ".py",
   "mimetype": "text/x-python",
   "name": "python",
   "nbconvert_exporter": "python",
   "pygments_lexer": "ipython3",
   "version": "3.7.1"
  }
 },
 "nbformat": 4,
 "nbformat_minor": 2
}
