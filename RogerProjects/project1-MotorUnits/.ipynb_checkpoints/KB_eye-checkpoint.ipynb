{
 "cells": [
  {
   "cell_type": "code",
   "execution_count": 1,
   "metadata": {},
   "outputs": [],
   "source": [
    "import numpy as np\n",
    "import matplotlib.pyplot as plt\n",
    "import math"
   ]
  },
  {
   "cell_type": "code",
   "execution_count": 2,
   "metadata": {},
   "outputs": [],
   "source": [
    "# force numpy array to print with decimal places\n",
    "np.set_printoptions(formatter={'float': lambda x: \"{0:0.8f}\".format(x)})"
   ]
  },
  {
   "cell_type": "code",
   "execution_count": 3,
   "metadata": {},
   "outputs": [
    {
     "data": {
      "text/plain": [
       "array([[0.00000000, 0.00000000, 0.00000000, 0.00000000, 0.00000000,\n",
       "        0.00000000, 0.00000000, 0.00000000, 0.00000000, 0.00000000],\n",
       "       [0.00000000, 0.00000000, 0.00000000, 0.00000000, 0.00000000,\n",
       "        0.00000000, 0.00000000, 0.00000000, 0.00000000, 0.00000000],\n",
       "       [0.00000000, 0.00000000, 0.00000000, 0.00000000, 0.00000000,\n",
       "        0.00000000, 0.00000000, 0.00000000, 0.00000000, 0.00000000]])"
      ]
     },
     "execution_count": 3,
     "metadata": {},
     "output_type": "execute_result"
    }
   ],
   "source": [
    "# dimension of empty numpy array\n",
    "m = 3\n",
    "n = 10\n",
    "Table_empty = np.zeros([m, n])\n",
    "Table_empty"
   ]
  },
  {
   "cell_type": "code",
   "execution_count": 4,
   "metadata": {},
   "outputs": [
    {
     "name": "stdout",
     "output_type": "stream",
     "text": [
      "eye_mass:0.05000000 \teye_link:0.04000000 \teye_intertia:0.00008000\n"
     ]
    }
   ],
   "source": [
    "# Roger's eye constant\n",
    "eye_mass = 0.05\n",
    "eye_link = 0.04\n",
    "eye_inertia = eye_mass * eye_link * eye_link\n",
    "print('eye_mass:{0:.8f}'.format(eye_mass),\n",
    "      '\\teye_link:{0:.8f}'.format(eye_link),\n",
    "      '\\teye_intertia:{0:.8f}'.format(eye_inertia))"
   ]
  },
  {
   "cell_type": "code",
   "execution_count": 5,
   "metadata": {},
   "outputs": [],
   "source": [
    "def get_natural_frequency(K, I=eye_inertia):\n",
    "    return math.sqrt(K/I)"
   ]
  },
  {
   "cell_type": "code",
   "execution_count": 6,
   "metadata": {},
   "outputs": [],
   "source": [
    "def get_damping_constant(W, I=eye_inertia, Z=1.0):\n",
    "    return 2 * Z * W * I"
   ]
  },
  {
   "cell_type": "code",
   "execution_count": 16,
   "metadata": {},
   "outputs": [],
   "source": [
    "def get_Table(Table, K, inertia=eye_inertia, step=0.0001):\n",
    "    newK = K\n",
    "    for i in range(0, n):\n",
    "        Table[0][i] = newK\n",
    "        Table[1][i] = get_natural_frequency(Table[0][i], inertia)\n",
    "        Table[2][i] = get_damping_constant(Table[1][i], inertia, 1.0)\n",
    "        newK += step\n",
    "    return Table"
   ]
  },
  {
   "cell_type": "code",
   "execution_count": 22,
   "metadata": {},
   "outputs": [
    {
     "data": {
      "text/plain": [
       "array([[1.00000000, 1.00010000, 1.00020000, 1.00030000, 1.00040000,\n",
       "        1.00050000, 1.00060000, 1.00070000, 1.00080000, 1.00090000],\n",
       "       [111.80339887, 111.80898891, 111.81457866, 111.82016813,\n",
       "        111.82575732, 111.83134623, 111.83693487, 111.84252322,\n",
       "        111.84811129, 111.85369909],\n",
       "       [0.01788854, 0.01788944, 0.01789033, 0.01789123, 0.01789212,\n",
       "        0.01789302, 0.01789391, 0.01789480, 0.01789570, 0.01789659]])"
      ]
     },
     "execution_count": 22,
     "metadata": {},
     "output_type": "execute_result"
    }
   ],
   "source": [
    "T_eye_f1_0 = get_Table(Table_empty, 1, eye_inertia, 0.0001)\n",
    "T_eye_f1_0"
   ]
  },
  {
   "cell_type": "code",
   "execution_count": 9,
   "metadata": {},
   "outputs": [
    {
     "data": {
      "text/plain": [
       "[<matplotlib.lines.Line2D at 0x7f82fe3e8898>]"
      ]
     },
     "execution_count": 9,
     "metadata": {},
     "output_type": "execute_result"
    },
    {
     "data": {
      "image/png": "[encoded data removed]",
      "text/plain": [
       "<Figure size 432x288 with 1 Axes>"
      ]
     },
     "metadata": {
      "needs_background": "light"
     },
     "output_type": "display_data"
    }
   ],
   "source": [
    "plt.plot(T_1[0], T_1[2])"
   ]
  },
  {
   "cell_type": "code",
   "execution_count": null,
   "metadata": {},
   "outputs": [],
   "source": []
  },
  {
   "cell_type": "code",
   "execution_count": 11,
   "metadata": {},
   "outputs": [
    {
     "name": "stdout",
     "output_type": "stream",
     "text": [
      "arm1_inertia:0.05000000 \tarm2_inertia:0.05000000\n"
     ]
    }
   ],
   "source": [
    "# Roger's arm constant\n",
    "arm1_mass = 0.2 #/* [kg] - mass of arm link 1 (upper arm) */\n",
    "arm2_mass = 0.2 #/* [kg] - mass of arm link 2 (forearm)   */\n",
    "arm_offset = 0.18 #/* [m] - 1/2 distance between arms */\n",
    "length_arm1 = 0.5 #/* [m] - the length of link 1 */\n",
    "length_arm2 = 0.5 #/* [m] - the length of link 2 */\n",
    "arm1_inertia = arm1_mass * length_arm1 * length_arm1 #/* [kg m^2] - link 1 moment of inertia */\n",
    "arm2_inertia = arm2_mass * length_arm2 * length_arm2 #/* [kg m^2] - link 2 moment of inertia */\n",
    "\n",
    "print('arm1_inertia:{0:.8f}'.format(arm1_inertia),\n",
    "     '\\tarm2_inertia:{0:.8f}'.format(arm2_inertia))"
   ]
  },
  {
   "cell_type": "code",
   "execution_count": 23,
   "metadata": {},
   "outputs": [
    {
     "data": {
      "text/plain": [
       "array([[1.00000000, 1.00010000, 1.00020000, 1.00030000, 1.00040000,\n",
       "        1.00050000, 1.00060000, 1.00070000, 1.00080000, 1.00090000],\n",
       "       [4.47213595, 4.47235956, 4.47258315, 4.47280673, 4.47303029,\n",
       "        4.47325385, 4.47347739, 4.47370093, 4.47392445, 4.47414796],\n",
       "       [0.44721360, 0.44723596, 0.44725831, 0.44728067, 0.44730303,\n",
       "        0.44732538, 0.44734774, 0.44737009, 0.44739245, 0.44741480]])"
      ]
     },
     "execution_count": 23,
     "metadata": {},
     "output_type": "execute_result"
    }
   ],
   "source": [
    "T_arm1_f1_0 = get_Table(Table_empty, 1, arm1_inertia, 0.0001)\n",
    "T_arm1_f1_0"
   ]
  },
  {
   "cell_type": "code",
   "execution_count": 25,
   "metadata": {},
   "outputs": [
    {
     "data": {
      "text/plain": [
       "array([[10.00000000, 20.00000000, 30.00000000, 40.00000000, 50.00000000,\n",
       "        60.00000000, 70.00000000, 80.00000000, 90.00000000, 100.00000000],\n",
       "       [14.14213562, 20.00000000, 24.49489743, 28.28427125, 31.62277660,\n",
       "        34.64101615, 37.41657387, 40.00000000, 42.42640687, 44.72135955],\n",
       "       [1.41421356, 2.00000000, 2.44948974, 2.82842712, 3.16227766,\n",
       "        3.46410162, 3.74165739, 4.00000000, 4.24264069, 4.47213595]])"
      ]
     },
     "execution_count": 25,
     "metadata": {},
     "output_type": "execute_result"
    }
   ],
   "source": [
    "T_arm1_f10_0 = get_Table(Table_empty, 10, arm1_inertia, 10)\n",
    "T_arm1_f10_0"
   ]
  },
  {
   "cell_type": "code",
   "execution_count": null,
   "metadata": {},
   "outputs": [],
   "source": []
  }
 ],
 "metadata": {
  "kernelspec": {
   "display_name": "Python 3",
   "language": "python",
   "name": "python3"
  },
  "language_info": {
   "codemirror_mode": {
    "name": "ipython",
    "version": 3
   },
   "file_extension": ".py",
   "mimetype": "text/x-python",
   "name": "python",
   "nbconvert_exporter": "python",
   "pygments_lexer": "ipython3",
   "version": "3.7.1"
  }
 },
 "nbformat": 4,
 "nbformat_minor": 2
}
