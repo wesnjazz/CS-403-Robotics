{
 "cells": [
  {
   "cell_type": "code",
   "execution_count": 1,
   "metadata": {},
   "outputs": [],
   "source": [
    "import numpy as np\n",
    "import matplotlib.pyplot as plt\n",
    "import math"
   ]
  },
  {
   "cell_type": "code",
   "execution_count": 2,
   "metadata": {},
   "outputs": [],
   "source": [
    "# force numpy array to print with decimal places\n",
    "np.set_printoptions(formatter={'float': lambda x: \"{0:0.17f}\".format(x)})"
   ]
  },
  {
   "cell_type": "code",
   "execution_count": 3,
   "metadata": {
    "scrolled": true
   },
   "outputs": [
    {
     "data": {
      "text/plain": [
       "array([[0.00000000000000000, 0.00000000000000000, 0.00000000000000000,\n",
       "        0.00000000000000000, 0.00000000000000000, 0.00000000000000000,\n",
       "        0.00000000000000000, 0.00000000000000000, 0.00000000000000000,\n",
       "        0.00000000000000000],\n",
       "       [0.00000000000000000, 0.00000000000000000, 0.00000000000000000,\n",
       "        0.00000000000000000, 0.00000000000000000, 0.00000000000000000,\n",
       "        0.00000000000000000, 0.00000000000000000, 0.00000000000000000,\n",
       "        0.00000000000000000],\n",
       "       [0.00000000000000000, 0.00000000000000000, 0.00000000000000000,\n",
       "        0.00000000000000000, 0.00000000000000000, 0.00000000000000000,\n",
       "        0.00000000000000000, 0.00000000000000000, 0.00000000000000000,\n",
       "        0.00000000000000000]])"
      ]
     },
     "execution_count": 3,
     "metadata": {},
     "output_type": "execute_result"
    }
   ],
   "source": [
    "# dimension of empty numpy array\n",
    "m = 3\n",
    "n = 10\n",
    "Table_empty = np.zeros([m, n])\n",
    "Table_empty"
   ]
  },
  {
   "cell_type": "code",
   "execution_count": 4,
   "metadata": {},
   "outputs": [
    {
     "name": "stdout",
     "output_type": "stream",
     "text": [
      "base_inertia: 0.02560000 \twholebody_inertia: 0.04864000\n"
     ]
    }
   ],
   "source": [
    "# Roger's base constant\n",
    "#define M_BASE         1.0   /* 1.0 [kg] */\n",
    "#define R_BASE         0.16  /* 0.16 [m] - the radius of Roger's body */\n",
    "#define I_BASE (M_BASE*R_BASE*R_BASE) /* [kg m^2] */\n",
    "#define R_AXLE         0.20  /* [m] - the radius to wheel contact w/ground */\n",
    "#define R_WHEEL        0.1   /* [m] - the radius of the wheel */\n",
    "\n",
    "#define M_WBODY (M_BASE + 2.0*M_EYE + 2.0*(M_ARM1+M_ARM2)) /* [kg] */\n",
    "#define I_WBODY (M_WBODY*R_BASE*R_BASE)\n",
    "\n",
    "#define M_EYE          0.05  /* [kg] - mass of the eye */\n",
    "#define L_EYE          0.04  /* [m] - the length of an eye link*/\n",
    "#define I_EYE  (M_EYE*L_EYE*L_EYE) /* [kg m^2] - eye moment of inertia */\n",
    "#define BASELINE       0.08  /* [m] - 1/2 distance between eyes */\n",
    "#define FOCAL_LENGTH  64.0   /* [pixels] - focal length */\n",
    "\n",
    "#define M_ARM1         0.2   /* [kg] - mass of arm link 1 (upper arm) */\n",
    "#define M_ARM2         0.2   /* [kg] - mass of arm link 2 (forearm)   */\n",
    "#define ARM_OFFSET     0.18  /* [m] - 1/2 distance between arms */\n",
    "#define L_ARM1         0.5   /* [m] - the length of link 1 */\n",
    "#define L_ARM2         0.5   /* [m] - the length of link 2 */\n",
    "#define I_ARM1 (M_ARM1*L_ARM1*L_ARM1) /* [kg m^2] - link 1 moment of inertia */\n",
    "#define I_ARM2 (M_ARM2*L_ARM2*L_ARM2) /* [kg m^2] - link 2 moment of inertia */\n",
    "\n",
    "\n",
    "m_base = 1.0\n",
    "r_base = 0.16\n",
    "i_base = m_base * r_base * r_base\n",
    "\n",
    "r_axle = 0.20\n",
    "r_wheel = 0.1\n",
    "\n",
    "m_eye = 0.05\n",
    "m_arm1 = 0.2\n",
    "m_arm2 = 0.2\n",
    "m_wbody = m_base + (2.0*m_eye) + (2.0*(m_arm1 + m_arm2))\n",
    "i_wbody = m_wbody * r_base * r_base\n",
    "\n",
    "print('base_inertia: {0:.8f}'.format(i_base),\n",
    "     '\\twholebody_inertia: {0:.8f}'.format(i_wbody))"
   ]
  },
  {
   "cell_type": "code",
   "execution_count": 5,
   "metadata": {},
   "outputs": [],
   "source": [
    "#/***** PD CONTROL *********************************************************/\n",
    "#define KP_BASE               75.0\n",
    "#define KD_BASE               12.2\n",
    "#define BASE_CONTROL_OFFSET    0.17\n",
    "\n",
    "#define KP_ARM                80.0\n",
    "#define KD_ARM                10.0\n",
    "\n",
    "#define KP_EYE                 1.0\n",
    "#define KD_EYE                 (sqrt(4.0*KP_EYE*I_EYE))"
   ]
  },
  {
   "cell_type": "code",
   "execution_count": 6,
   "metadata": {},
   "outputs": [],
   "source": [
    "# inertia = i_base\n",
    "inertia = i_wbody"
   ]
  },
  {
   "cell_type": "code",
   "execution_count": 7,
   "metadata": {},
   "outputs": [],
   "source": [
    "def get_natural_frequency(K, I=inertia):\n",
    "    return math.sqrt(K/I)"
   ]
  },
  {
   "cell_type": "code",
   "execution_count": 8,
   "metadata": {},
   "outputs": [],
   "source": [
    "K = 80.0"
   ]
  },
  {
   "cell_type": "code",
   "execution_count": 9,
   "metadata": {},
   "outputs": [
    {
     "data": {
      "text/plain": [
       "40.555355282690634"
      ]
     },
     "execution_count": 9,
     "metadata": {},
     "output_type": "execute_result"
    }
   ],
   "source": [
    "get_natural_frequency(K)"
   ]
  },
  {
   "cell_type": "code",
   "execution_count": 10,
   "metadata": {},
   "outputs": [],
   "source": [
    "def get_damping_constant(W, I=inertia, Z=1.0):\n",
    "    return 2 * Z * W * I"
   ]
  },
  {
   "cell_type": "code",
   "execution_count": 11,
   "metadata": {},
   "outputs": [
    {
     "data": {
      "text/plain": [
       "3.945224961900146"
      ]
     },
     "execution_count": 11,
     "metadata": {},
     "output_type": "execute_result"
    }
   ],
   "source": [
    "get_damping_constant(get_natural_frequency(K))"
   ]
  },
  {
   "cell_type": "code",
   "execution_count": 12,
   "metadata": {},
   "outputs": [],
   "source": [
    "def get_Table(Table, K, inertia=inertia, step=0.0001):\n",
    "    newK = K\n",
    "    for i in range(0, n):\n",
    "        Table[0][i] = newK\n",
    "        Table[1][i] = get_natural_frequency(Table[0][i], inertia)\n",
    "        Table[2][i] = get_damping_constant(Table[1][i], inertia, 1.0)\n",
    "        newK += step\n",
    "    return Table"
   ]
  },
  {
   "cell_type": "code",
   "execution_count": null,
   "metadata": {},
   "outputs": [],
   "source": []
  },
  {
   "cell_type": "markdown",
   "metadata": {},
   "source": [
    "# Rotate"
   ]
  },
  {
   "cell_type": "code",
   "execution_count": 13,
   "metadata": {},
   "outputs": [
    {
     "data": {
      "text/plain": [
       "array([[80.00000000000000000, 85.00000000000000000, 90.00000000000000000,\n",
       "        95.00000000000000000, 100.00000000000000000,\n",
       "        105.00000000000000000, 110.00000000000000000,\n",
       "        115.00000000000000000, 120.00000000000000000,\n",
       "        125.00000000000000000],\n",
       "       [40.55535528269063406, 41.80350337874616429, 43.01545010073032671,\n",
       "        44.19417382415921480, 45.34226563187572623, 46.46199635468925493,\n",
       "        47.55536939079262737, 48.62416282596868911, 49.66996338993913440,\n",
       "        50.69419410336328724],\n",
       "       [3.94522496190014582, 4.06664480868442801, 4.18454298579904727,\n",
       "        4.29920922961420970, 4.41089560066887110, 4.51982300538417192,\n",
       "        4.62618633433630766, 4.73015855971023491, 4.83189403857327981,\n",
       "        4.93153120237518117]])"
      ]
     },
     "execution_count": 13,
     "metadata": {},
     "output_type": "execute_result"
    }
   ],
   "source": [
    "K = 80\n",
    "step = 5\n",
    "T_base_f80_0 = get_Table(Table_empty, K, inertia, step)\n",
    "T_base_f80_0"
   ]
  },
  {
   "cell_type": "code",
   "execution_count": 14,
   "metadata": {},
   "outputs": [],
   "source": [
    "# 80, 10"
   ]
  },
  {
   "cell_type": "code",
   "execution_count": 15,
   "metadata": {},
   "outputs": [
    {
     "data": {
      "text/plain": [
       "array([[100.00000000000000000, 110.00000000000000000,\n",
       "        120.00000000000000000, 130.00000000000000000,\n",
       "        140.00000000000000000, 150.00000000000000000,\n",
       "        160.00000000000000000, 170.00000000000000000,\n",
       "        180.00000000000000000, 190.00000000000000000],\n",
       "       [45.34226563187572623, 47.55536939079262737, 49.66996338993913440,\n",
       "        51.69813699178193644, 53.64969220493450308, 55.53270728991490301,\n",
       "        57.35393346764043798, 59.11908143293232598, 60.83303292403594753,\n",
       "        62.49999999999999289],\n",
       "       [4.41089560066887110, 4.62618633433630766, 4.83189403857327981,\n",
       "        5.02919476656054787, 5.21904205769602925, 5.40222176516292318,\n",
       "        5.57939064773206272, 5.75110424179565793, 5.91783744285021829,\n",
       "        6.08000000000000007]])"
      ]
     },
     "execution_count": 15,
     "metadata": {},
     "output_type": "execute_result"
    }
   ],
   "source": [
    "K = 100\n",
    "step = 10\n",
    "inertia = i_wbody\n",
    "T_base_f100_0 = get_Table(Table_empty, K, inertia, step)\n",
    "T_base_f100_0"
   ]
  },
  {
   "cell_type": "code",
   "execution_count": 16,
   "metadata": {},
   "outputs": [],
   "source": [
    "# 100, 11.5"
   ]
  },
  {
   "cell_type": "code",
   "execution_count": 17,
   "metadata": {},
   "outputs": [],
   "source": [
    "# 120, 14"
   ]
  },
  {
   "cell_type": "code",
   "execution_count": 18,
   "metadata": {},
   "outputs": [],
   "source": [
    "# 150, 15.5 Good"
   ]
  },
  {
   "cell_type": "code",
   "execution_count": 19,
   "metadata": {},
   "outputs": [],
   "source": [
    "# 150, 15.7 Better"
   ]
  },
  {
   "cell_type": "code",
   "execution_count": 20,
   "metadata": {
    "scrolled": true
   },
   "outputs": [
    {
     "data": {
      "text/plain": [
       "array([[200.00000000000000000, 210.00000000000000000,\n",
       "        220.00000000000000000, 230.00000000000000000,\n",
       "        240.00000000000000000, 250.00000000000000000,\n",
       "        260.00000000000000000, 270.00000000000000000,\n",
       "        280.00000000000000000, 290.00000000000000000],\n",
       "       [64.12364700532212680, 65.70718537973084494, 67.25344835612128236,\n",
       "        68.76495052752260051, 70.24393586862703387, 71.69241683455054215,\n",
       "        73.11220648320022519, 74.50494508490871226, 75.87212233336049394,\n",
       "        77.21509601516777366],\n",
       "       [6.23794838067773760, 6.39199499374021762, 6.54241545608347952,\n",
       "        6.68945438731739994, 6.83333008130003883, 6.97423830966507818,\n",
       "        7.11235544668571951, 7.24784105785992061, 7.38084006058931053,\n",
       "        7.51148454035552238]])"
      ]
     },
     "execution_count": 20,
     "metadata": {},
     "output_type": "execute_result"
    }
   ],
   "source": [
    "K = 200\n",
    "step = 10\n",
    "inertia = i_wbody\n",
    "T_base_f200_0 = get_Table(Table_empty, K, inertia, step)\n",
    "T_base_f200_0"
   ]
  },
  {
   "cell_type": "code",
   "execution_count": 21,
   "metadata": {},
   "outputs": [],
   "source": [
    "# 200, 16"
   ]
  },
  {
   "cell_type": "code",
   "execution_count": 22,
   "metadata": {},
   "outputs": [],
   "source": [
    "# 200, 19.7 Good"
   ]
  },
  {
   "cell_type": "code",
   "execution_count": 23,
   "metadata": {
    "scrolled": true
   },
   "outputs": [
    {
     "data": {
      "text/plain": [
       "array([[300.00000000000000000, 310.00000000000000000,\n",
       "        320.00000000000000000, 330.00000000000000000,\n",
       "        340.00000000000000000, 350.00000000000000000,\n",
       "        360.00000000000000000, 370.00000000000000000,\n",
       "        380.00000000000000000, 390.00000000000000000],\n",
       "       [78.53510780469289898, 79.83329670731312433, 81.11071056538126811,\n",
       "        82.36831595755863589, 83.60700675749232857, 84.82761156728700769,\n",
       "        86.03090020146065342, 87.21758936554506647, 88.38834764831842961,\n",
       "        89.54379992642235209],\n",
       "       [7.63989528724052658, 7.76618310368742204, 7.89044992380029164,\n",
       "        8.01278977635130651, 8.13328961736885603, 8.25203005326568118,\n",
       "        8.36908597159809453, 8.48452709348022616, 8.59841845922841941,\n",
       "        8.71082085684236773]])"
      ]
     },
     "execution_count": 23,
     "metadata": {},
     "output_type": "execute_result"
    }
   ],
   "source": [
    "K = 300\n",
    "step = 10\n",
    "inertia = i_wbody\n",
    "T_base_f200_0 = get_Table(Table_empty, K, inertia, step)\n",
    "T_base_f200_0"
   ]
  },
  {
   "cell_type": "code",
   "execution_count": 24,
   "metadata": {},
   "outputs": [],
   "source": [
    "# 300, 22"
   ]
  },
  {
   "cell_type": "code",
   "execution_count": 25,
   "metadata": {},
   "outputs": [],
   "source": [
    "# 330, 10 Blow out"
   ]
  },
  {
   "cell_type": "code",
   "execution_count": 26,
   "metadata": {},
   "outputs": [],
   "source": [
    "# 330, 20 Safe"
   ]
  },
  {
   "cell_type": "code",
   "execution_count": 27,
   "metadata": {},
   "outputs": [],
   "source": [
    "# 330 28 Good"
   ]
  },
  {
   "cell_type": "code",
   "execution_count": 28,
   "metadata": {},
   "outputs": [
    {
     "data": {
      "text/plain": [
       "array([[400.00000000000000000, 410.00000000000000000,\n",
       "        420.00000000000000000, 430.00000000000000000,\n",
       "        440.00000000000000000, 450.00000000000000000,\n",
       "        460.00000000000000000, 470.00000000000000000,\n",
       "        480.00000000000000000, 490.00000000000000000],\n",
       "       [90.68453126375145246, 91.81109037468986855, 92.92399270937850986,\n",
       "        94.02372321023980817, 95.11073878158525474, 96.18547050798318310,\n",
       "        97.24832565193737821, 98.29968945713115147, 99.33992677987826880,\n",
       "        100.36938356837076469],\n",
       "       [8.82179120133774219, 8.93138287164983247, 9.03964601076834384,\n",
       "        9.14662779389213121, 9.25237266867261532, 9.35692257101660552,\n",
       "        9.46031711942046982, 9.56259379038971957, 9.66378807714655963,\n",
       "        9.76393363353110999]])"
      ]
     },
     "execution_count": 28,
     "metadata": {},
     "output_type": "execute_result"
    }
   ],
   "source": [
    "K = 400\n",
    "step = 10\n",
    "inertia = i_wbody\n",
    "T_base_f200_0 = get_Table(Table_empty, K, inertia, step)\n",
    "T_base_f200_0"
   ]
  },
  {
   "cell_type": "code",
   "execution_count": 29,
   "metadata": {},
   "outputs": [],
   "source": [
    "# 400, 28 Blow out"
   ]
  },
  {
   "cell_type": "code",
   "execution_count": 30,
   "metadata": {},
   "outputs": [],
   "source": [
    "# 500, 32 Blow out"
   ]
  },
  {
   "cell_type": "code",
   "execution_count": 31,
   "metadata": {},
   "outputs": [],
   "source": [
    "# 75, 13"
   ]
  },
  {
   "cell_type": "markdown",
   "metadata": {},
   "source": [
    "# Translate"
   ]
  },
  {
   "cell_type": "code",
   "execution_count": null,
   "metadata": {},
   "outputs": [],
   "source": [
    "# 30, 14 no oscillation  # 20, 5.5 no osc"
   ]
  },
  {
   "cell_type": "code",
   "execution_count": 32,
   "metadata": {},
   "outputs": [],
   "source": [
    "# 75, 18"
   ]
  },
  {
   "cell_type": "code",
   "execution_count": 33,
   "metadata": {},
   "outputs": [],
   "source": [
    "# 100, 21 # 100, 17"
   ]
  },
  {
   "cell_type": "code",
   "execution_count": 34,
   "metadata": {},
   "outputs": [],
   "source": [
    "# 150, 28 # 150, 15.7 Better"
   ]
  },
  {
   "cell_type": "code",
   "execution_count": 35,
   "metadata": {},
   "outputs": [],
   "source": [
    "# 200, 30"
   ]
  },
  {
   "cell_type": "code",
   "execution_count": 36,
   "metadata": {},
   "outputs": [],
   "source": [
    "# 300, 39"
   ]
  },
  {
   "cell_type": "code",
   "execution_count": 37,
   "metadata": {},
   "outputs": [],
   "source": [
    "# 400, 50"
   ]
  },
  {
   "cell_type": "code",
   "execution_count": 38,
   "metadata": {},
   "outputs": [],
   "source": [
    "# 500, 60"
   ]
  },
  {
   "cell_type": "code",
   "execution_count": 39,
   "metadata": {},
   "outputs": [],
   "source": [
    "# 80 16 100 12"
   ]
  },
  {
   "cell_type": "code",
   "execution_count": null,
   "metadata": {},
   "outputs": [],
   "source": []
  }
 ],
 "metadata": {
  "kernelspec": {
   "display_name": "Python 3",
   "language": "python",
   "name": "python3"
  },
  "language_info": {
   "codemirror_mode": {
    "name": "ipython",
    "version": 3
   },
   "file_extension": ".py",
   "mimetype": "text/x-python",
   "name": "python",
   "nbconvert_exporter": "python",
   "pygments_lexer": "ipython3",
   "version": "3.7.1"
  }
 },
 "nbformat": 4,
 "nbformat_minor": 2
}
