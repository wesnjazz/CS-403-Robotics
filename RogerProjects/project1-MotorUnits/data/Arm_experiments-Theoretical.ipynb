{
 "cells": [
  {
   "cell_type": "code",
   "execution_count": 46,
   "metadata": {},
   "outputs": [],
   "source": [
    "import numpy as np\n",
    "import pandas as pd\n",
    "import matplotlib.pyplot as plt\n",
    "import math"
   ]
  },
  {
   "cell_type": "code",
   "execution_count": 47,
   "metadata": {},
   "outputs": [],
   "source": [
    "df1 = pd.read_csv('arm_K101_25000_B4_50000.txt', sep=',')\n",
    "# df2 = pd.read_csv('eye_K1_00000_B0_00800.txt', sep=',')\n",
    "# df3 = pd.read_csv('eye_K1_00000_B0_02600.txt', sep=',')"
   ]
  },
  {
   "cell_type": "code",
   "execution_count": 48,
   "metadata": {},
   "outputs": [
    {
     "data": {
      "text/html": [
       "<div>\n",
       "<style scoped>\n",
       "    .dataframe tbody tr th:only-of-type {\n",
       "        vertical-align: middle;\n",
       "    }\n",
       "\n",
       "    .dataframe tbody tr th {\n",
       "        vertical-align: top;\n",
       "    }\n",
       "\n",
       "    .dataframe thead th {\n",
       "        text-align: right;\n",
       "    }\n",
       "</style>\n",
       "<table border=\"1\" class=\"dataframe\">\n",
       "  <thead>\n",
       "    <tr style=\"text-align: right;\">\n",
       "      <th></th>\n",
       "      <th>time</th>\n",
       "      <th>t_er_arm1</th>\n",
       "      <th>t_dot_er_arm1</th>\n",
       "      <th>t_er_arm2</th>\n",
       "      <th>t_dot_er_arm2</th>\n",
       "    </tr>\n",
       "  </thead>\n",
       "  <tbody>\n",
       "    <tr>\n",
       "      <th>0</th>\n",
       "      <td>0.001</td>\n",
       "      <td>-2.827435</td>\n",
       "      <td>-0.001126</td>\n",
       "      <td>2.827434</td>\n",
       "      <td>0.000186</td>\n",
       "    </tr>\n",
       "    <tr>\n",
       "      <th>1</th>\n",
       "      <td>0.002</td>\n",
       "      <td>-2.823888</td>\n",
       "      <td>7.094618</td>\n",
       "      <td>2.826164</td>\n",
       "      <td>-2.539513</td>\n",
       "    </tr>\n",
       "    <tr>\n",
       "      <th>2</th>\n",
       "      <td>0.003</td>\n",
       "      <td>-2.814323</td>\n",
       "      <td>12.034640</td>\n",
       "      <td>2.822524</td>\n",
       "      <td>-4.741177</td>\n",
       "    </tr>\n",
       "    <tr>\n",
       "      <th>3</th>\n",
       "      <td>0.004</td>\n",
       "      <td>-2.800534</td>\n",
       "      <td>15.544129</td>\n",
       "      <td>2.816798</td>\n",
       "      <td>-6.709414</td>\n",
       "    </tr>\n",
       "    <tr>\n",
       "      <th>4</th>\n",
       "      <td>0.005</td>\n",
       "      <td>-2.783718</td>\n",
       "      <td>18.087689</td>\n",
       "      <td>2.809191</td>\n",
       "      <td>-8.505851</td>\n",
       "    </tr>\n",
       "  </tbody>\n",
       "</table>\n",
       "</div>"
      ],
      "text/plain": [
       "    time  t_er_arm1  t_dot_er_arm1  t_er_arm2  t_dot_er_arm2\n",
       "0  0.001  -2.827435      -0.001126   2.827434       0.000186\n",
       "1  0.002  -2.823888       7.094618   2.826164      -2.539513\n",
       "2  0.003  -2.814323      12.034640   2.822524      -4.741177\n",
       "3  0.004  -2.800534      15.544129   2.816798      -6.709414\n",
       "4  0.005  -2.783718      18.087689   2.809191      -8.505851"
      ]
     },
     "execution_count": 48,
     "metadata": {},
     "output_type": "execute_result"
    }
   ],
   "source": [
    "df1.head()"
   ]
  },
  {
   "cell_type": "code",
   "execution_count": 49,
   "metadata": {},
   "outputs": [
    {
     "data": {
      "text/plain": [
       "(3350, 5)"
      ]
     },
     "execution_count": 49,
     "metadata": {},
     "output_type": "execute_result"
    }
   ],
   "source": [
    "df1.shape"
   ]
  },
  {
   "cell_type": "code",
   "execution_count": 50,
   "metadata": {},
   "outputs": [
    {
     "name": "stdout",
     "output_type": "stream",
     "text": [
      "1.5707963267948966 -1.5707963267948966 -70.68583470577035 -45\n"
     ]
    }
   ],
   "source": [
    "S1 = -45\n",
    "A0 = math.pi/2\n",
    "A1 = -math.pi/2\n",
    "A2 = (-45*math.pi)/2\n",
    "print(A0, A1, A2, S1)"
   ]
  },
  {
   "cell_type": "code",
   "execution_count": null,
   "metadata": {},
   "outputs": [],
   "source": []
  },
  {
   "cell_type": "code",
   "execution_count": 51,
   "metadata": {},
   "outputs": [],
   "source": [
    "def equation(x):\n",
    "    return A0 + (A1*math.exp(S1*x)) + (A2*x*math.exp(S1*x)) "
   ]
  },
  {
   "cell_type": "code",
   "execution_count": 52,
   "metadata": {},
   "outputs": [],
   "source": [
    "df1['analysis'] = df1['time'].apply(equation)"
   ]
  },
  {
   "cell_type": "code",
   "execution_count": 53,
   "metadata": {},
   "outputs": [
    {
     "data": {
      "text/html": [
       "<div>\n",
       "<style scoped>\n",
       "    .dataframe tbody tr th:only-of-type {\n",
       "        vertical-align: middle;\n",
       "    }\n",
       "\n",
       "    .dataframe tbody tr th {\n",
       "        vertical-align: top;\n",
       "    }\n",
       "\n",
       "    .dataframe thead th {\n",
       "        text-align: right;\n",
       "    }\n",
       "</style>\n",
       "<table border=\"1\" class=\"dataframe\">\n",
       "  <thead>\n",
       "    <tr style=\"text-align: right;\">\n",
       "      <th></th>\n",
       "      <th>time</th>\n",
       "      <th>t_er_arm1</th>\n",
       "      <th>t_dot_er_arm1</th>\n",
       "      <th>t_er_arm2</th>\n",
       "      <th>t_dot_er_arm2</th>\n",
       "      <th>analysis</th>\n",
       "    </tr>\n",
       "  </thead>\n",
       "  <tbody>\n",
       "    <tr>\n",
       "      <th>0</th>\n",
       "      <td>0.001</td>\n",
       "      <td>-2.827435</td>\n",
       "      <td>-0.001126</td>\n",
       "      <td>2.827434</td>\n",
       "      <td>0.000186</td>\n",
       "      <td>0.001544</td>\n",
       "    </tr>\n",
       "    <tr>\n",
       "      <th>1</th>\n",
       "      <td>0.002</td>\n",
       "      <td>-2.823888</td>\n",
       "      <td>7.094618</td>\n",
       "      <td>2.826164</td>\n",
       "      <td>-2.539513</td>\n",
       "      <td>0.005993</td>\n",
       "    </tr>\n",
       "    <tr>\n",
       "      <th>2</th>\n",
       "      <td>0.003</td>\n",
       "      <td>-2.814323</td>\n",
       "      <td>12.034640</td>\n",
       "      <td>2.822524</td>\n",
       "      <td>-4.741177</td>\n",
       "      <td>0.013089</td>\n",
       "    </tr>\n",
       "    <tr>\n",
       "      <th>3</th>\n",
       "      <td>0.004</td>\n",
       "      <td>-2.800534</td>\n",
       "      <td>15.544129</td>\n",
       "      <td>2.816798</td>\n",
       "      <td>-6.709414</td>\n",
       "      <td>0.022590</td>\n",
       "    </tr>\n",
       "    <tr>\n",
       "      <th>4</th>\n",
       "      <td>0.005</td>\n",
       "      <td>-2.783718</td>\n",
       "      <td>18.087689</td>\n",
       "      <td>2.809191</td>\n",
       "      <td>-8.505851</td>\n",
       "      <td>0.034271</td>\n",
       "    </tr>\n",
       "  </tbody>\n",
       "</table>\n",
       "</div>"
      ],
      "text/plain": [
       "    time  t_er_arm1  t_dot_er_arm1  t_er_arm2  t_dot_er_arm2  analysis\n",
       "0  0.001  -2.827435      -0.001126   2.827434       0.000186  0.001544\n",
       "1  0.002  -2.823888       7.094618   2.826164      -2.539513  0.005993\n",
       "2  0.003  -2.814323      12.034640   2.822524      -4.741177  0.013089\n",
       "3  0.004  -2.800534      15.544129   2.816798      -6.709414  0.022590\n",
       "4  0.005  -2.783718      18.087689   2.809191      -8.505851  0.034271"
      ]
     },
     "execution_count": 53,
     "metadata": {},
     "output_type": "execute_result"
    }
   ],
   "source": [
    "df1.head()"
   ]
  },
  {
   "cell_type": "code",
   "execution_count": 54,
   "metadata": {},
   "outputs": [
    {
     "data": {
      "text/html": [
       "<div>\n",
       "<style scoped>\n",
       "    .dataframe tbody tr th:only-of-type {\n",
       "        vertical-align: middle;\n",
       "    }\n",
       "\n",
       "    .dataframe tbody tr th {\n",
       "        vertical-align: top;\n",
       "    }\n",
       "\n",
       "    .dataframe thead th {\n",
       "        text-align: right;\n",
       "    }\n",
       "</style>\n",
       "<table border=\"1\" class=\"dataframe\">\n",
       "  <thead>\n",
       "    <tr style=\"text-align: right;\">\n",
       "      <th></th>\n",
       "      <th>time</th>\n",
       "      <th>t_er_arm1</th>\n",
       "      <th>t_dot_er_arm1</th>\n",
       "      <th>t_er_arm2</th>\n",
       "      <th>t_dot_er_arm2</th>\n",
       "      <th>analysis</th>\n",
       "    </tr>\n",
       "  </thead>\n",
       "  <tbody>\n",
       "    <tr>\n",
       "      <th>1999</th>\n",
       "      <td>2.0</td>\n",
       "      <td>0.000127</td>\n",
       "      <td>-0.000556</td>\n",
       "      <td>0.00013</td>\n",
       "      <td>-0.000238</td>\n",
       "      <td>1.570796</td>\n",
       "    </tr>\n",
       "  </tbody>\n",
       "</table>\n",
       "</div>"
      ],
      "text/plain": [
       "      time  t_er_arm1  t_dot_er_arm1  t_er_arm2  t_dot_er_arm2  analysis\n",
       "1999   2.0   0.000127      -0.000556    0.00013      -0.000238  1.570796"
      ]
     },
     "execution_count": 54,
     "metadata": {},
     "output_type": "execute_result"
    }
   ],
   "source": [
    "df1.iloc[[1999]]"
   ]
  },
  {
   "cell_type": "code",
   "execution_count": 56,
   "metadata": {},
   "outputs": [
    {
     "data": {
      "text/plain": [
       "1.5707963267948966"
      ]
     },
     "execution_count": 56,
     "metadata": {},
     "output_type": "execute_result"
    }
   ],
   "source": [
    "df1.at[1999, 'analysis']"
   ]
  },
  {
   "cell_type": "code",
   "execution_count": 57,
   "metadata": {},
   "outputs": [],
   "source": [
    "for i in range(1999, 2999):\n",
    "    df1.at[i, 'analysis'] = df1.at[i - 1999, 'analysis']"
   ]
  },
  {
   "cell_type": "code",
   "execution_count": null,
   "metadata": {},
   "outputs": [],
   "source": []
  },
  {
   "cell_type": "code",
   "execution_count": 60,
   "metadata": {},
   "outputs": [
    {
     "data": {
      "text/plain": [
       "(-2, 2)"
      ]
     },
     "execution_count": 60,
     "metadata": {},
     "output_type": "execute_result"
    },
    {
     "data": {
      "image/png": "[encoded data removed]",
      "text/plain": [
       "<Figure size 1080x576 with 1 Axes>"
      ]
     },
     "metadata": {
      "needs_background": "light"
     },
     "output_type": "display_data"
    }
   ],
   "source": [
    "plt.plot(df1['time'], df1['analysis'], label='Theoretical Response')\n",
    "plt.plot(df1['time'], df1['t_er_arm2'], label='Actual Response from Roger')\n",
    "# plt.plot(df1['time'], df1['t_er_arm2'], label='Actual Response from Roger')\n",
    "plt.xlabel('Time')\n",
    "plt.ylabel('Theta')\n",
    "plt.legend()\n",
    "plt.xlim(2, 2.3)\n",
    "plt.ylim(-2, 2)"
   ]
  },
  {
   "cell_type": "code",
   "execution_count": 30,
   "metadata": {},
   "outputs": [
    {
     "data": {
      "image/png": "[encoded data removed]",
      "text/plain": [
       "<Figure size 1080x576 with 1 Axes>"
      ]
     },
     "metadata": {
      "needs_background": "light"
     },
     "output_type": "display_data"
    }
   ],
   "source": [
    "from mpl_toolkits.axes_grid1 import host_subplot\n",
    "import mpl_toolkits.axisartist as AA\n",
    "import matplotlib.pyplot as plt\n",
    "\n",
    "lim_x_min = 2.01\n",
    "lim_x_max = 3\n",
    "lim_y_min = -3\n",
    "lim_y_max = 3\n",
    "\n",
    "host = host_subplot(111, axes_class=AA.Axes)\n",
    "# plt.subplots_adjust(right=0.75)\n",
    "plt.rcParams[\"figure.figsize\"] = 15,8\n",
    "\n",
    "par1 = host.twinx()\n",
    "par2 = host.twinx()\n",
    "\n",
    "host.set_xlim(lim_x_min, lim_x_max)\n",
    "host.set_ylim(lim_y_min, lim_y_max)\n",
    "\n",
    "host.set_xlabel(\"Time\")\n",
    "host.set_ylabel(\"Theta_Error\")\n",
    "# par1.set_ylabel(\"Temperature\")\n",
    "# par2.set_ylabel(\"Velocity\")\n",
    "\n",
    "p1, = host.plot(df1['time'], df1['analysis'], 'g--', label=\"Theoretical Response\")\n",
    "p2, = par1.plot(df1['time'], df1['t_er_arm1'], 'r--', label=\"Arm 1\")\n",
    "p3, = par2.plot(df1['time'], df1['t_er_arm2'], 'b--', label=\"Arm 2\")\n",
    "\n",
    "par1.set_ylim(lim_y_min, lim_y_max)\n",
    "# par2.set_ylim(lim_y_min, lim_y_max)\n",
    "\n",
    "plt.title('Finding K and B')\n",
    "host.legend()\n",
    "\n",
    "# host.axis[\"left\"].label.set_color(p1.get_color())\n",
    "# par1.axis[\"right\"].label.set_color(p2.get_color())\n",
    "# par2.axis[\"right\"].label.set_color(p3.get_color())\n",
    "\n",
    "plt.draw()\n",
    "plt.show()"
   ]
  },
  {
   "cell_type": "code",
   "execution_count": null,
   "metadata": {},
   "outputs": [],
   "source": []
  }
 ],
 "metadata": {
  "kernelspec": {
   "display_name": "Python 3",
   "language": "python",
   "name": "python3"
  },
  "language_info": {
   "codemirror_mode": {
    "name": "ipython",
    "version": 3
   },
   "file_extension": ".py",
   "mimetype": "text/x-python",
   "name": "python",
   "nbconvert_exporter": "python",
   "pygments_lexer": "ipython3",
   "version": "3.7.1"
  }
 },
 "nbformat": 4,
 "nbformat_minor": 2
}
