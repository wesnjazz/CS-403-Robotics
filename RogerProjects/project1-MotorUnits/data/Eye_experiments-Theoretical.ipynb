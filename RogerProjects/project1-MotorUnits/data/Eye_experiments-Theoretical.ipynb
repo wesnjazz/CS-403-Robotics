{
 "cells": [
  {
   "cell_type": "code",
   "execution_count": 1,
   "metadata": {},
   "outputs": [],
   "source": [
    "import numpy as np\n",
    "import pandas as pd\n",
    "import matplotlib.pyplot as plt\n",
    "import math"
   ]
  },
  {
   "cell_type": "code",
   "execution_count": 2,
   "metadata": {},
   "outputs": [],
   "source": [
    "df1 = pd.read_csv('eye_K1_00000_B0_01790.txt', sep=',')\n",
    "# df2 = pd.read_csv('eye_K1_00000_B0_00800.txt', sep=',')\n",
    "# df3 = pd.read_csv('eye_K1_00000_B0_02600.txt', sep=',')"
   ]
  },
  {
   "cell_type": "code",
   "execution_count": 3,
   "metadata": {},
   "outputs": [
    {
     "data": {
      "text/html": [
       "<div>\n",
       "<style scoped>\n",
       "    .dataframe tbody tr th:only-of-type {\n",
       "        vertical-align: middle;\n",
       "    }\n",
       "\n",
       "    .dataframe tbody tr th {\n",
       "        vertical-align: top;\n",
       "    }\n",
       "\n",
       "    .dataframe thead th {\n",
       "        text-align: right;\n",
       "    }\n",
       "</style>\n",
       "<table border=\"1\" class=\"dataframe\">\n",
       "  <thead>\n",
       "    <tr style=\"text-align: right;\">\n",
       "      <th></th>\n",
       "      <th>time</th>\n",
       "      <th>theta__error</th>\n",
       "      <th>theta_dot_error</th>\n",
       "    </tr>\n",
       "  </thead>\n",
       "  <tbody>\n",
       "    <tr>\n",
       "      <th>0</th>\n",
       "      <td>0.000</td>\n",
       "      <td>-1.500001</td>\n",
       "      <td>-0.000390</td>\n",
       "    </tr>\n",
       "    <tr>\n",
       "      <th>1</th>\n",
       "      <td>0.001</td>\n",
       "      <td>-1.485894</td>\n",
       "      <td>9.404146</td>\n",
       "    </tr>\n",
       "    <tr>\n",
       "      <th>2</th>\n",
       "      <td>0.002</td>\n",
       "      <td>-1.464101</td>\n",
       "      <td>17.663195</td>\n",
       "    </tr>\n",
       "    <tr>\n",
       "      <th>3</th>\n",
       "      <td>0.003</td>\n",
       "      <td>-1.435648</td>\n",
       "      <td>24.856906</td>\n",
       "    </tr>\n",
       "    <tr>\n",
       "      <th>4</th>\n",
       "      <td>0.004</td>\n",
       "      <td>-1.401481</td>\n",
       "      <td>31.063411</td>\n",
       "    </tr>\n",
       "  </tbody>\n",
       "</table>\n",
       "</div>"
      ],
      "text/plain": [
       "    time   theta__error   theta_dot_error\n",
       "0  0.000      -1.500001         -0.000390\n",
       "1  0.001      -1.485894          9.404146\n",
       "2  0.002      -1.464101         17.663195\n",
       "3  0.003      -1.435648         24.856906\n",
       "4  0.004      -1.401481         31.063411"
      ]
     },
     "execution_count": 3,
     "metadata": {},
     "output_type": "execute_result"
    }
   ],
   "source": [
    "df1.head()"
   ]
  },
  {
   "cell_type": "code",
   "execution_count": 4,
   "metadata": {},
   "outputs": [
    {
     "data": {
      "text/plain": [
       "(2893, 3)"
      ]
     },
     "execution_count": 4,
     "metadata": {},
     "output_type": "execute_result"
    }
   ],
   "source": [
    "df1.shape"
   ]
  },
  {
   "cell_type": "code",
   "execution_count": 62,
   "metadata": {},
   "outputs": [
    {
     "name": "stdout",
     "output_type": "stream",
     "text": [
      "-1.5 -180 -120\n"
     ]
    }
   ],
   "source": [
    "S1 = -120\n",
    "A0 = 0\n",
    "A1 = -1.5\n",
    "A2 = -180\n",
    "print(A1, A2, S1)"
   ]
  },
  {
   "cell_type": "code",
   "execution_count": 63,
   "metadata": {},
   "outputs": [
    {
     "data": {
      "text/plain": [
       "14400"
      ]
     },
     "execution_count": 63,
     "metadata": {},
     "output_type": "execute_result"
    }
   ],
   "source": [
    "S1 * S1"
   ]
  },
  {
   "cell_type": "code",
   "execution_count": null,
   "metadata": {},
   "outputs": [],
   "source": []
  },
  {
   "cell_type": "code",
   "execution_count": 46,
   "metadata": {},
   "outputs": [
    {
     "name": "stdout",
     "output_type": "stream",
     "text": [
      "-1 -110 -110\n"
     ]
    }
   ],
   "source": [
    "S1 = -110\n",
    "A0 = 1\n",
    "A1 = -1\n",
    "A2 = -110\n",
    "print(A1, A2, S1)"
   ]
  },
  {
   "cell_type": "code",
   "execution_count": null,
   "metadata": {},
   "outputs": [],
   "source": []
  },
  {
   "cell_type": "code",
   "execution_count": 64,
   "metadata": {},
   "outputs": [],
   "source": [
    "def equation(x):\n",
    "    return (A1*math.exp(S1*x)) + (A2*x*math.exp(S1*x)) "
   ]
  },
  {
   "cell_type": "code",
   "execution_count": 65,
   "metadata": {},
   "outputs": [],
   "source": [
    "def get_t_err(x):\n",
    "    return 0 - equation(x)"
   ]
  },
  {
   "cell_type": "code",
   "execution_count": 66,
   "metadata": {},
   "outputs": [],
   "source": [
    "df1['analysis'] = df1['time'].apply(equation)"
   ]
  },
  {
   "cell_type": "code",
   "execution_count": 67,
   "metadata": {},
   "outputs": [
    {
     "data": {
      "text/html": [
       "<div>\n",
       "<style scoped>\n",
       "    .dataframe tbody tr th:only-of-type {\n",
       "        vertical-align: middle;\n",
       "    }\n",
       "\n",
       "    .dataframe tbody tr th {\n",
       "        vertical-align: top;\n",
       "    }\n",
       "\n",
       "    .dataframe thead th {\n",
       "        text-align: right;\n",
       "    }\n",
       "</style>\n",
       "<table border=\"1\" class=\"dataframe\">\n",
       "  <thead>\n",
       "    <tr style=\"text-align: right;\">\n",
       "      <th></th>\n",
       "      <th>time</th>\n",
       "      <th>theta__error</th>\n",
       "      <th>theta_dot_error</th>\n",
       "      <th>analysis</th>\n",
       "    </tr>\n",
       "  </thead>\n",
       "  <tbody>\n",
       "    <tr>\n",
       "      <th>0</th>\n",
       "      <td>0.000</td>\n",
       "      <td>-1.500001</td>\n",
       "      <td>-0.000390</td>\n",
       "      <td>-1.500000</td>\n",
       "    </tr>\n",
       "    <tr>\n",
       "      <th>1</th>\n",
       "      <td>0.001</td>\n",
       "      <td>-1.485894</td>\n",
       "      <td>9.404146</td>\n",
       "      <td>-1.490026</td>\n",
       "    </tr>\n",
       "    <tr>\n",
       "      <th>2</th>\n",
       "      <td>0.002</td>\n",
       "      <td>-1.464101</td>\n",
       "      <td>17.663195</td>\n",
       "      <td>-1.463128</td>\n",
       "    </tr>\n",
       "    <tr>\n",
       "      <th>3</th>\n",
       "      <td>0.003</td>\n",
       "      <td>-1.435648</td>\n",
       "      <td>24.856906</td>\n",
       "      <td>-1.423260</td>\n",
       "    </tr>\n",
       "    <tr>\n",
       "      <th>4</th>\n",
       "      <td>0.004</td>\n",
       "      <td>-1.401481</td>\n",
       "      <td>31.063411</td>\n",
       "      <td>-1.373699</td>\n",
       "    </tr>\n",
       "  </tbody>\n",
       "</table>\n",
       "</div>"
      ],
      "text/plain": [
       "    time   theta__error   theta_dot_error  analysis\n",
       "0  0.000      -1.500001         -0.000390 -1.500000\n",
       "1  0.001      -1.485894          9.404146 -1.490026\n",
       "2  0.002      -1.464101         17.663195 -1.463128\n",
       "3  0.003      -1.435648         24.856906 -1.423260\n",
       "4  0.004      -1.401481         31.063411 -1.373699"
      ]
     },
     "execution_count": 67,
     "metadata": {},
     "output_type": "execute_result"
    }
   ],
   "source": [
    "df1.head()"
   ]
  },
  {
   "cell_type": "code",
   "execution_count": 68,
   "metadata": {},
   "outputs": [
    {
     "data": {
      "text/plain": [
       "-1.4900263336848245"
      ]
     },
     "execution_count": 68,
     "metadata": {},
     "output_type": "execute_result"
    }
   ],
   "source": [
    "equation(0.001)"
   ]
  },
  {
   "cell_type": "code",
   "execution_count": null,
   "metadata": {},
   "outputs": [],
   "source": []
  },
  {
   "cell_type": "code",
   "execution_count": null,
   "metadata": {},
   "outputs": [],
   "source": []
  },
  {
   "cell_type": "code",
   "execution_count": 76,
   "metadata": {},
   "outputs": [
    {
     "data": {
      "text/plain": [
       "(0, 0.25)"
      ]
     },
     "execution_count": 76,
     "metadata": {},
     "output_type": "execute_result"
    },
    {
     "data": {
      "image/png": "[encoded data removed]",
      "text/plain": [
       "<Figure size 1080x576 with 1 Axes>"
      ]
     },
     "metadata": {
      "needs_background": "light"
     },
     "output_type": "display_data"
    }
   ],
   "source": [
    "plt.plot(df1['time'], df1['analysis'], label='Theoretical Response')\n",
    "plt.plot(df1['time'], df1[' theta__error'], label='Actual Response from Roger')\n",
    "plt.xlabel('Time')\n",
    "plt.ylabel('Theta')\n",
    "plt.legend()\n",
    "plt.xlim(0, 0.25)"
   ]
  },
  {
   "cell_type": "code",
   "execution_count": 87,
   "metadata": {},
   "outputs": [
    {
     "data": {
      "image/png": "[encoded data removed]",
      "text/plain": [
       "<Figure size 1080x576 with 1 Axes>"
      ]
     },
     "metadata": {
      "needs_background": "light"
     },
     "output_type": "display_data"
    }
   ],
   "source": [
    "from mpl_toolkits.axes_grid1 import host_subplot\n",
    "import mpl_toolkits.axisartist as AA\n",
    "import matplotlib.pyplot as plt\n",
    "\n",
    "lim_x_min = 0\n",
    "lim_x_max = 0.23\n",
    "lim_y_min = -1.6\n",
    "lim_y_max = 0.3\n",
    "\n",
    "host = host_subplot(111, axes_class=AA.Axes)\n",
    "# plt.subplots_adjust(right=0.75)\n",
    "plt.rcParams[\"figure.figsize\"] = 15,8\n",
    "\n",
    "par1 = host.twinx()\n",
    "par2 = host.twinx()\n",
    "\n",
    "# offset = 60\n",
    "# new_fixed_axis = par2.get_grid_helper().new_fixed_axis\n",
    "# par2.axis[\"right\"] = new_fixed_axis(loc=\"right\",\n",
    "#                                     axes=par2,\n",
    "#                                     offset=(offset, 0))\n",
    "\n",
    "# par2.axis[\"right\"].toggle(all=True)\n",
    "\n",
    "# host.set_xlim(1, 1.2)\n",
    "host.set_xlim(lim_x_min, lim_x_max)\n",
    "host.set_ylim(lim_y_min, lim_y_max)\n",
    "\n",
    "host.set_xlabel(\"Time\")\n",
    "host.set_ylabel(\"Theta_Error\")\n",
    "# par1.set_ylabel(\"Temperature\")\n",
    "# par2.set_ylabel(\"Velocity\")\n",
    "\n",
    "p1, = host.plot(df1['time'], df1[' theta__error'], 'g--', label=\"Actual Response from Roger\")\n",
    "p2, = par1.plot(df1['time'], df1['analysis'], 'r--', label=\"Theoretical Response\")\n",
    "# p3, = par2.plot(df3['time'], df3[' theta__error'], 'b--', label=\"K=1.50000 B=0.0260\")\n",
    "\n",
    "par1.set_ylim(lim_y_min, lim_y_max)\n",
    "# par2.set_ylim(lim_y_min, lim_y_max)\n",
    "\n",
    "plt.title('Theretical Vs. Actual')\n",
    "host.legend()\n",
    "\n",
    "# host.axis[\"left\"].label.set_color(p1.get_color())\n",
    "# par1.axis[\"right\"].label.set_color(p2.get_color())\n",
    "# par2.axis[\"right\"].label.set_color(p3.get_color())\n",
    "\n",
    "plt.draw()\n",
    "plt.show()"
   ]
  },
  {
   "cell_type": "code",
   "execution_count": null,
   "metadata": {},
   "outputs": [],
   "source": []
  }
 ],
 "metadata": {
  "kernelspec": {
   "display_name": "Python 3",
   "language": "python",
   "name": "python3"
  },
  "language_info": {
   "codemirror_mode": {
    "name": "ipython",
    "version": 3
   },
   "file_extension": ".py",
   "mimetype": "text/x-python",
   "name": "python",
   "nbconvert_exporter": "python",
   "pygments_lexer": "ipython3",
   "version": "3.7.1"
  }
 },
 "nbformat": 4,
 "nbformat_minor": 2
}
